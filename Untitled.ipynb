{
 "cells": [
  {
   "cell_type": "code",
   "execution_count": null,
   "id": "f3b88236-d023-43b3-8aca-5a9733d92991",
   "metadata": {},
   "outputs": [],
   "source": [
    "# Streamlit code example\n",
    "import streamlit as st\n",
    "\n",
    "st.title(\"Welcome to My Class Lectures Page!\")\n",
    "st.write(\"This is where you'll find all the lecture links.\")\n"
   ]
  }
 ],
 "metadata": {
  "kernelspec": {
   "display_name": "Python 3 (ipykernel)",
   "language": "python",
   "name": "python3"
  },
  "language_info": {
   "codemirror_mode": {
    "name": "ipython",
    "version": 3
   },
   "file_extension": ".py",
   "mimetype": "text/x-python",
   "name": "python",
   "nbconvert_exporter": "python",
   "pygments_lexer": "ipython3",
   "version": "3.12.8"
  }
 },
 "nbformat": 4,
 "nbformat_minor": 5
}
