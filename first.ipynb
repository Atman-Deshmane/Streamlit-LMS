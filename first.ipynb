{
 "cells": [
  {
   "cell_type": "code",
   "execution_count": null,
   "id": "f3b88236-d023-43b3-8aca-5a9733d92991",
   "metadata": {},
   "outputs": [],
   "source": [
    "import streamlit as st\n",
    "\n",
    "# Title of the app\n",
    "st.title(\"Physics: The Art and Science of Thinking clearly\")\n",
    "\n",
    "# Instructions for users\n",
    "st.write(\"Let's get started with the basics, shall we?\")\n",
    "\n",
    "# Embed lecture with responsive design\n",
    "st.components.v1.html(\n",
    "    \"\"\"\n",
    "<div style=\"max-width: 640px\"><div style=\"position: relative; padding-bottom: 56.25%; height: 0; overflow: hidden;\"><iframe src=\"https://guidetoiit-my.sharepoint.com/personal/atmandeshmane_guidetoiit_onmicrosoft_com/_layouts/15/embed.aspx?UniqueId=9db68098-d664-4a99-a24c-6e5e82c90b8b&embed=%7B%22ust%22%3Atrue%2C%22hv%22%3A%22CopyEmbedCode%22%7D&referrer=StreamWebApp&referrerScenario=EmbedDialog.Create\" width=\"640\" height=\"360\" frameborder=\"0\" scrolling=\"no\" allowfullscreen title=\"Vectors Part 1.mp4\" style=\"border:none; position: absolute; top: 0; left: 0; right: 0; bottom: 0; height: 100%; max-width: 100%;\"></iframe></div></div>    \"\"\",\n",
    "    height=360,\n",
    ")\n"
   ]
  }
 ],
 "metadata": {
  "kernelspec": {
   "display_name": "Python 3 (ipykernel)",
   "language": "python",
   "name": "python3"
  },
  "language_info": {
   "codemirror_mode": {
    "name": "ipython",
    "version": 3
   },
   "file_extension": ".py",
   "mimetype": "text/x-python",
   "name": "python",
   "nbconvert_exporter": "python",
   "pygments_lexer": "ipython3",
   "version": "3.12.8"
  }
 },
 "nbformat": 4,
 "nbformat_minor": 5
}
